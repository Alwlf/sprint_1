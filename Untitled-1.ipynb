{
 "cells": [
  {
   "attachments": {},
   "cell_type": "markdown",
   "metadata": {},
   "source": [
    "# <b>태양광 발전량 관계 데이터 시각화</b>"
   ]
  },
  {
   "attachments": {},
   "cell_type": "markdown",
   "metadata": {},
   "source": [
    "KEPCO Digital BootCamp A반 6조 Sprint 1 : 데이터 시각화 프로젝트\n",
    "<br>\n",
    "\n",
    "**개요**<br> \n",
    "\n",
    "(flowchart) 대체 예정  태양광 발전량, 전력시세, 발전소, 기상정보, 데이터 시각화 > \n",
    "<br>\n",
    "\n",
    "**도메인(Domain) 정보**<br>\n",
    "\n",
    "1. 평균 기온\n",
    "2. 일조율\n",
    "3. 합계 일사량\n",
    "4. \n"
   ]
  },
  {
   "attachments": {},
   "cell_type": "markdown",
   "metadata": {},
   "source": [
    "라이브러리(모듈) 호출"
   ]
  },
  {
   "cell_type": "code",
   "execution_count": null,
   "metadata": {},
   "outputs": [],
   "source": [
    "import json, folium\n",
    "import matplotlib.pyplot as plt\n",
    "import seaborn as sns\n",
    "import pandas as pd\n",
    "import warnings\n",
    "warnings.filterwarnings('ignore',category=RuntimeWarning)\n",
    "pd.set_option('mode.chained_assignment',  None)         # 경고 미출력"
   ]
  },
  {
   "attachments": {},
   "cell_type": "markdown",
   "metadata": {},
   "source": [
    "## 수빈"
   ]
  },
  {
   "cell_type": "code",
   "execution_count": null,
   "metadata": {},
   "outputs": [],
   "source": []
  },
  {
   "attachments": {},
   "cell_type": "markdown",
   "metadata": {},
   "source": [
    "## 화영"
   ]
  },
  {
   "cell_type": "code",
   "execution_count": null,
   "metadata": {},
   "outputs": [],
   "source": []
  },
  {
   "attachments": {},
   "cell_type": "markdown",
   "metadata": {},
   "source": [
    "## 성화"
   ]
  },
  {
   "cell_type": "code",
   "execution_count": null,
   "metadata": {},
   "outputs": [],
   "source": []
  },
  {
   "attachments": {},
   "cell_type": "markdown",
   "metadata": {},
   "source": [
    "## 인"
   ]
  },
  {
   "cell_type": "code",
   "execution_count": null,
   "metadata": {},
   "outputs": [],
   "source": [
    "# 발전소 : 데이터 전처리\n",
    "plant = pd.read_excel('data1/태양광_발전소설치현황_2022.xls')   # 파일 가져오기 (plant 변수에 저장)\n",
    "plant_loc = plant['구분']                                 # 구분열을 따로 저장(지역)\n",
    "plant.drop(columns=['구분','2022년 설치발전소 개소','누적 발전소 개소(2022년까지)'],inplace=True)\n",
    "# 필요없는 열 삭제 : 2021년도 까지만 사용 - 2022~ 열 삭제, inplace로 plant 원본 변경\n",
    "plant = plant.cumsum(1).iloc[:,-1]                        \n",
    "# plant의 누적값을 계산하고, 끝의 열만을 가져와 다시 저장(덮어씀)\n",
    "# cumsum(axis,...) : 누적값 계산, 안의 첫번째 값은 axis이고 1로 설정하면 열 방향(오른쪽)으로 누적값 계산\n",
    "# iloc[index,column] : 특정 위치 값(열) 가져오기.\n",
    "# inplace 옵션이 없어 plant에 다시 저장해서 업데이트\n",
    "plant_df = pd.concat([plant_loc,plant],axis=1)            # 지역과 누적값(개수)열을 합쳐 DataFrame 생성\n",
    "plant_df.columns = ['지역','개수']                        # 열의 이름을 새로 지정\n",
    "plant_dic = plant_df.to_dict(orient='records')            # DataFrame을 지역 키와 개수 키로 나뉜 딕셔너리로 변환"
   ]
  },
  {
   "cell_type": "code",
   "execution_count": null,
   "metadata": {},
   "outputs": [],
   "source": [
    "# 발전소 : 데이터 지도 시각화\n",
    "jsonfile = open('data1/Sido.json','r',encoding='utf8').read()     # 시도구분된 지역 json 파일 가져오기\n",
    "jsondata = json.loads(jsonfile)                             \n",
    "jsondata_loc = {'type': 'FeatureCollection'}                # Sido.json을 복사해서 일부 특성(키와 값) 추가\n",
    "jsondata_pick = []\n",
    "for idx in jsondata['features']:\n",
    "    idx['id'] = idx['properties']['CTP_KOR_NM']             # Sido.\n",
    "    for i in plant_dic:\n",
    "        if i['지역'] == idx['properties']['CTP_KOR_NM']:    # Sido.json의 지역과 일치하면 pop이라는 키 새로 만들고\n",
    "            idx['properties']['pop'] = str(i['개수']) + ' 개'            # 해당 지역의 개수값을 넣기\n",
    "    jsondata_pick.append(idx)                               # 추가된 값을 jsondata_pick에 저장\n",
    "jsondata_loc['features'] = jsondata_pick                    # jsondata_loc의 features 키에 저장\n",
    "map = folium.Map(location=[35.230194, 129.074721],zoom_start=8) # 지도 생성, location : 시작위치, zoom_start : 시작 시 확대정도\n",
    "cho = folium.Choropleth(geo_data=jsondata_loc,              # 색상단계도 생성, geo_data : 참고할 위치정보 데이터\n",
    "                  data=plant_df,                            # data : geo_data와 비교해 맞출 데이터\n",
    "                  columns=['지역','개수'],                  # columns : data에서 사용할 열\n",
    "                  fill_color=\"OrRd\",                        # fill_color : 색\n",
    "                  key_on='feature.id').add_to(map)          # key_on : data와 맞출 geo_data의 데이터\n",
    "cho.geojson.add_child(                                      # 속성 추가(?)\n",
    "    folium.features.GeoJsonPopup(['CTP_KOR_NM','pop'],labels=False,style='font-weight : bold')\n",
    ")   # popup 넣기, geo_data의 properties 키의 값들 중 선택 가능, labels : 열이름 유무, style : 서식\n",
    "map"
   ]
  },
  {
   "cell_type": "code",
   "execution_count": null,
   "metadata": {},
   "outputs": [],
   "source": [
    "# 발전량 : 데이터 전처리\n",
    "plant = pd.read_csv('data1/태양에너지태양광_20230330105731.csv',encoding='cp949')\n",
    "plant = plant[(plant['신재생에너지현황별(1)']=='발전량 (MWh)') | (plant['신재생에너지현황별(1)']=='신재생에너지현황별(1)')]   # 파일 가져오기 (plant 변수에 저장)\n",
    "plant.drop(columns=['신재생에너지현황별(1)','신재생에너지현황별(2)'],inplace=True)\n",
    "comlist = []\n",
    "cnt = 0\n",
    "for i in range(4):\n",
    "    comlist.append(plant.iloc[:,cnt:cnt+18].T)\n",
    "    cnt += 18\n",
    "for i in range(4):\n",
    "    comlist[i].drop(comlist[i].index[0],inplace=True)\n",
    "    comlist[i].columns = ['지역','발전량']\n",
    "for i in range(4):\n",
    "    comlist[i].reset_index(inplace=True,drop=True)\n",
    "new_df = pd.concat([comlist[0].지역,comlist[0].발전량,comlist[1].발전량,comlist[2].발전량,comlist[3].발전량],axis=1)\n",
    "new_df['누적합'] = new_df.iloc[:,1:].sum(axis=1)\n",
    "plant_loc = plant_loc.sort_values()\n",
    "new_df.sort_values(by='지역',inplace=True)\n",
    "new_df['지역'] = plant_loc.values\n",
    "new_df.drop(columns = new_df.iloc[:,1:-2].columns,inplace=True)\n",
    "new_dic = new_df.to_dict(orient='records')"
   ]
  },
  {
   "cell_type": "code",
   "execution_count": null,
   "metadata": {},
   "outputs": [],
   "source": [
    "# 발전량 : 데이터 지도 시각화\n",
    "jsonfile = open('data1/Sido.json','r',encoding='utf8').read()     # 시도구분된 지역 json 파일 가져오기\n",
    "jsondata = json.loads(jsonfile)                             \n",
    "jsondata_loc = {'type': 'FeatureCollection'}                # Sido.json을 복사해서 일부 특성(키와 값) 추가\n",
    "jsondata_pick = []\n",
    "for idx in jsondata['features']:\n",
    "    idx['id'] = idx['properties']['CTP_KOR_NM']             # Sido.\n",
    "    for i in new_dic:\n",
    "        if i['지역'] == idx['properties']['CTP_KOR_NM']:    # Sido.json의 지역과 일치하면 pop이라는 키 새로 만들고\n",
    "            idx['properties']['pop'] = str(round(i['누적합']/(10**22),3)) + ' (10^22 MWh)'            # 해당 지역의 개수값을 넣기\n",
    "    jsondata_pick.append(idx)                               # 추가된 값을 jsondata_pick에 저장\n",
    "jsondata_loc['features'] = jsondata_pick                    # jsondata_loc의 features 키에 저장\n",
    "map = folium.Map(location=[35.230194, 129.074721],zoom_start=8) # 지도 생성, location : 시작위치, zoom_start : 시작 시 확대정도\n",
    "cho = folium.Choropleth(geo_data=jsondata_loc,              # 색상단계도 생성, geo_data : 참고할 위치정보 데이터\n",
    "                  data=new_df,                            # data : geo_data와 비교해 맞출 데이터\n",
    "                  columns=['지역','누적합'],                  # columns : data에서 사용할 열\n",
    "                  fill_color=\"OrRd\",                        # fill_color : 색\n",
    "                  key_on='feature.id').add_to(map)          # key_on : data와 맞출 geo_data의 데이터\n",
    "cho.geojson.add_child(                                      # 속성 추가(?)\n",
    "    folium.features.GeoJsonPopup(['CTP_KOR_NM','pop'],labels=False,style='font-weight : bold')\n",
    ")   # popup 넣기, geo_data의 properties 키의 값들 중 선택 가능, labels : 열이름 유무, style : 서식\n",
    "map"
   ]
  }
 ],
 "metadata": {
  "kernelspec": {
   "display_name": "base",
   "language": "python",
   "name": "python3"
  },
  "language_info": {
   "codemirror_mode": {
    "name": "ipython",
    "version": 3
   },
   "file_extension": ".py",
   "mimetype": "text/x-python",
   "name": "python",
   "nbconvert_exporter": "python",
   "pygments_lexer": "ipython3",
   "version": "3.9.13"
  },
  "orig_nbformat": 4
 },
 "nbformat": 4,
 "nbformat_minor": 2
}
