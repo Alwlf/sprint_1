{
 "cells": [
  {
   "attachments": {},
   "cell_type": "markdown",
   "metadata": {},
   "source": [
    "# <b>태양광 발전량 관계 데이터 시각화</b>"
   ]
  },
  {
   "attachments": {},
   "cell_type": "markdown",
   "metadata": {},
   "source": [
    "KEPCO Digital BootCamp A반 6조 Sprint 1 : 데이터 시각화 프로젝트\n",
    "<br>\n",
    "\n",
    "**개요**<br> \n",
    "\n",
    "(flowchart) 대체 예정  태양광 발전량, 전력시세, 발전소, 기상정보, 데이터 시각화 > \n",
    "<br>\n",
    "\n",
    "**도메인(Domain) 정보**<br>\n",
    "\n",
    "1. 평균 기온\n",
    "2. 일조율\n",
    "3. 합계 일사량\n",
    "4. \n"
   ]
  },
  {
   "attachments": {},
   "cell_type": "markdown",
   "metadata": {},
   "source": [
    "라이브러리(모듈) 호출"
   ]
  },
  {
   "cell_type": "code",
   "execution_count": null,
   "metadata": {},
   "outputs": [],
   "source": [
    "import json, folium\n",
    "import matplotlib.pyplot as plt\n",
    "import seaborn as sns\n",
    "import pandas as pd\n",
    "import warnings\n",
    "warnings.filterwarnings('ignore',category=RuntimeWarning)\n",
    "pd.set_option('mode.chained_assignment',  None)         # 경고 미출력"
   ]
  },
  {
   "attachments": {},
   "cell_type": "markdown",
   "metadata": {},
   "source": [
    "## 수빈"
   ]
  },
  {
   "cell_type": "code",
   "execution_count": null,
   "metadata": {},
   "outputs": [],
   "source": []
  },
  {
   "attachments": {},
   "cell_type": "markdown",
   "metadata": {},
   "source": [
    "## 화영"
   ]
  },
  {
   "cell_type": "code",
   "execution_count": null,
   "metadata": {},
   "outputs": [],
   "source": []
  },
  {
   "attachments": {},
   "cell_type": "markdown",
   "metadata": {},
   "source": [
    "## 성화"
   ]
  },
  {
   "cell_type": "code",
   "execution_count": null,
   "metadata": {},
   "outputs": [],
   "source": [
    "# 지역별 전력판매량(수요량)데이터 전처리 시작"
   ]
  },
  {
   "cell_type": "code",
   "execution_count": null,
   "metadata": {},
   "outputs": [],
   "source": [
    "df = pd.read_csv('data2/전력_지역별용도별판매량_2021.csv', skiprows=[0], encoding='cp949') # 첫 행을 건너뛰고 추출하기 위해 skiprows를 사용\n",
    "df.head()"
   ]
  },
  {
   "cell_type": "code",
   "execution_count": null,
   "metadata": {},
   "outputs": [],
   "source": [
    "df.info()"
   ]
  },
  {
   "cell_type": "code",
   "execution_count": null,
   "metadata": {},
   "outputs": [],
   "source": [
    "df.columns # column 이름을 확인"
   ]
  },
  {
   "cell_type": "code",
   "execution_count": null,
   "metadata": {},
   "outputs": [],
   "source": [
    "# df_area에 df의 서울부터 제주까지의 자료만 입력\n",
    "\n",
    "df_area = df[['서울', '부산', '대구', '인천', '광주', '대전', '울산', '세종',\n",
    "       '경기', '강원', '충북', '충남', '전북', '전남', '경북', '경남', '제주']] \n",
    "df_area "
   ]
  },
  {
   "cell_type": "code",
   "execution_count": null,
   "metadata": {},
   "outputs": [],
   "source": [
    "df_drop = df_area.drop(df_area.index[1:32]) # 0번 index를 제외한 나머지를 drop 하여 지역별 합계 데이터만 추출\n",
    "df_drop.info()"
   ]
  },
  {
   "cell_type": "code",
   "execution_count": null,
   "metadata": {},
   "outputs": [],
   "source": [
    "# df_drop의 column 중 datatype이 object인 5곳을 지정하여 int64 형식으로 변경\n",
    "df_astype = df_drop.astype({'울산':'int64', '세종':'int64', '전북':'int64', '전남':'int64' ,'제주':'int64'})\n",
    "df_astype.columns"
   ]
  },
  {
   "cell_type": "code",
   "execution_count": null,
   "metadata": {},
   "outputs": [],
   "source": [
    "df_astype"
   ]
  },
  {
   "cell_type": "code",
   "execution_count": null,
   "metadata": {},
   "outputs": [],
   "source": [
    "# df_astype의 행과 열을 바꾸기 위해 transpose를 사용\n",
    "df_trans = df_astype.T\n",
    "df_reset = df_trans.reset_index() # Column 명을 reset\n",
    "df_reset"
   ]
  },
  {
   "cell_type": "code",
   "execution_count": null,
   "metadata": {},
   "outputs": [],
   "source": [
    "df_reset.columns = ['지역','판매량'] # column 명을 각각 '지역'과 '판매량'으로 재정의\n",
    "df_reset"
   ]
  },
  {
   "cell_type": "code",
   "execution_count": null,
   "metadata": {},
   "outputs": [],
   "source": [
    "# df_reset의 '지역' 레코드를 바로 folium.choropleth 에 적용할 수 없기에 태양광_발전소설치현황_2022.xls의 '구분' column을 호출, local로 저장\n",
    "local = pd.read_excel('data2/태양광_발전소설치현황_2022.xls')['구분'] \n",
    "local\n",
    "\n",
    "sales = df_reset['판매량'] # df_reset의 '지역' 레코드 대신 local로 대체하고자 '판매량' column만 추출, sales로 저장\n",
    "a = pd.DataFrame([local,sales]).T # local과 sales의 레코드로 구성된 DataFrame 생성하고 바로 행과 열을 바꿈\n",
    "a.columns = ['지역','판매량'] # column 명을 각각 '지역'과 '판매량'으로 재정의\n",
    "a_dic = a.to_dict(orient='records') # a에 저장된 DataFrame을 지역과 판매량으로 구분된 딕셔너리로 변환\n",
    "a_dic"
   ]
  },
  {
   "cell_type": "code",
   "execution_count": null,
   "metadata": {},
   "outputs": [],
   "source": [
    "# 지역별 전력판매량(수요량)데이터 지도로 시각화"
   ]
  },
  {
   "cell_type": "code",
   "execution_count": null,
   "metadata": {},
   "outputs": [],
   "source": [
    "jsonfile = open('data2/Sido.json','r',encoding='utf8').read()     # 시도구분된 지역 json 파일 가져오기\n",
    "jsondata = json.loads(jsonfile)                             \n",
    "jsondata_loc = {'type': 'FeatureCollection'}                # Sido.json을 복사해서 일부 특성(키와 값) 추가\n",
    "jsondata_pick = []\n",
    "for idx in jsondata['features']:\n",
    "    idx['id'] = idx['properties']['CTP_KOR_NM']             # Sido.\n",
    "    for i in a_dic:\n",
    "        if i['지역'] == idx['properties']['CTP_KOR_NM']:    # Sido.json의 지역과 일치하면 pop이라는 키 새로 만들고\n",
    "            idx['properties']['pop'] = i['판매량']          # 해당 지역의 판매량을 넣기\n",
    "    jsondata_pick.append(idx)                               # 추가된 값을 jsondata_pick에 저장\n",
    "jsondata_loc['features'] = jsondata_pick                    # jsondata_loc의 features 키에 저장\n",
    "map = folium.Map(location=[35.230194, 129.074721],zoom_start=7) # 지도 생성, location : 시작위치, zoom_start : 시작 시 확대정도\n",
    "cho = folium.Choropleth(geo_data=jsondata_loc,              # 색상단계도 생성, geo_data : 참고할 위치정보 데이터\n",
    "                  data=a,                                   # data : geo_data와 비교해 맞출 데이터\n",
    "                  columns=['지역','판매량'],                  # columns : data에서 사용할 열\n",
    "                  fill_color=\"OrRd\",                        # fill_color : 색\n",
    "                  key_on='feature.id',                      # key_on : data와 맞출 geo_data의 데이터\n",
    "                  legend_name='2021년 지역별 전력판매량').add_to(map)  # legend_name : 범례 제목 입력        \n",
    "cho.geojson.add_child(                                      # 속성 부여\n",
    "    folium.features.GeoJsonPopup(['CTP_KOR_NM','pop'],labels=False,style='font-weight : bold')\n",
    ")   # popup 넣기, geo_data의 properties 키의 값들 중 선택 가능, labels : 열이름 유무, style : 서식\n",
    "map"
   ]
  },
  {
   "cell_type": "code",
   "execution_count": null,
   "metadata": {},
   "outputs": [],
   "source": [
    "# 지역별 인구밀도 데이터 전처리 시작"
   ]
  },
  {
   "cell_type": "code",
   "execution_count": null,
   "metadata": {},
   "outputs": [],
   "source": [
    "df = pd.read_csv('data2/인구밀도_인구주택총조사기준_2018-2021.csv', encoding='cp949')\n",
    "df"
   ]
  },
  {
   "cell_type": "code",
   "execution_count": null,
   "metadata": {},
   "outputs": [],
   "source": [
    "df_drop = df.iloc[1:18] # 전국에 해당하는 레코드는 쓰이지 않으므로 서울특별시부터 제주도까지만 iloc method를 통해 추출"
   ]
  },
  {
   "cell_type": "code",
   "execution_count": null,
   "metadata": {},
   "outputs": [],
   "source": [
    "df_drop\n",
    "df_drop.columns"
   ]
  },
  {
   "cell_type": "code",
   "execution_count": null,
   "metadata": {},
   "outputs": [],
   "source": [
    "df_2021 = df_drop[['행정구역별', '2021']] # 2021년 기준의 지역별 인구밀도만 필요하므로 해당 column만 추출\n",
    "df_2021.columns = ['지역','인구밀도']"
   ]
  },
  {
   "cell_type": "code",
   "execution_count": null,
   "metadata": {},
   "outputs": [],
   "source": [
    "df_s = df_2021\n",
    "df_s = df_s.reset_index(drop=True) # reset_index method 중 drop의 경우에는 기본값이 False. column에 index를 삽입하지 않으려 True값 입력"
   ]
  },
  {
   "cell_type": "code",
   "execution_count": null,
   "metadata": {},
   "outputs": [],
   "source": [
    "local = pd.read_excel('data2/태양광_발전소설치현황_2022.xls')['구분'] # 지역명이 필요하여 태양광_발전소설치현황_2022.csv 를 불러옴\n",
    "local"
   ]
  },
  {
   "cell_type": "code",
   "execution_count": null,
   "metadata": {},
   "outputs": [],
   "source": [
    "people = df_s['인구밀도'] # 인구밀도 column만을 people 변수로 불러옴\n",
    "a = pd.DataFrame([local,people]).T # a에 local과 people 변수로 구성된 DataFrame을 구성\n",
    "\n",
    "a.columns = ['지역','인구밀도'] # column명을 지역, 인구밀도로 변경\n",
    "a"
   ]
  },
  {
   "cell_type": "code",
   "execution_count": null,
   "metadata": {},
   "outputs": [],
   "source": [
    "a_dic = a.to_dict(orient='records')  # 위 DataFrame을 지역 키와 개수 키로 나뉜 딕셔너리로 변환\n",
    "a_dic"
   ]
  },
  {
   "cell_type": "code",
   "execution_count": null,
   "metadata": {},
   "outputs": [],
   "source": [
    "# 지역별 인구밀도 데이터 지도 시각화"
   ]
  },
  {
   "cell_type": "code",
   "execution_count": null,
   "metadata": {},
   "outputs": [],
   "source": [
    "jsonfile = open('data2/Sido.json','r',encoding='utf8').read()     # 시도구분된 지역 json 파일 가져오기\n",
    "jsondata = json.loads(jsonfile)                             \n",
    "jsondata_loc = {'type': 'FeatureCollection'}                # Sido.json을 복사해서 일부 특성(키와 값) 추가\n",
    "jsondata_pick = []\n",
    "for idx in jsondata['features']:\n",
    "    idx['id'] = idx['properties']['CTP_KOR_NM']             # Sido.\n",
    "    for i in a_dic:\n",
    "        if i['지역'] == idx['properties']['CTP_KOR_NM']:    # Sido.json의 지역과 일치하면 pop이라는 키 새로 만들고\n",
    "            idx['properties']['pop'] = i['인구밀도']        # 해당 지역의 인구밀도를 입력\n",
    "    jsondata_pick.append(idx)                               # 추가된 값을 jsondata_pick에 저장\n",
    "jsondata_loc['features'] = jsondata_pick                    # jsondata_loc의 features 키에 저장\n",
    "map = folium.Map(location=[35.230194, 129.074721],zoom_start=7) # 지도 생성, location : 시작위치, zoom_start : 시작 시 확대정도\n",
    "cho = folium.Choropleth(geo_data=jsondata_loc,              # 색상단계도 생성, geo_data : 참고할 위치정보 데이터\n",
    "                  data=a,                                   # data : geo_data와 비교해 맞출 데이터\n",
    "                  columns=['지역', '인구밀도'],             # columns : data에서 사용할 열\n",
    "                  fill_color=\"OrRd\",                        # fill_color : 색 \n",
    "                  key_on='feature.id',                      # key_on : data와 맞출 geo_data의 데이터\n",
    "                  legend_name='2021년 지역별 인구밀도').add_to(map)    # legend_name : 범례 제목 입력       \n",
    "cho.geojson.add_child(                                      # 속성 부여\n",
    "    folium.features.GeoJsonPopup(['CTP_KOR_NM','pop'],labels=False,style='font-weight : bold')\n",
    ")   # popup 넣기, geo_data의 properties 키의 값들 중 선택 가능, labels : 열이름 유무, style : 서식\n",
    "map"
   ]
  },
  {
   "cell_type": "code",
   "execution_count": null,
   "metadata": {},
   "outputs": [],
   "source": [
    "# 일자별 평균 전력시세 데이터 전처리"
   ]
  },
  {
   "cell_type": "code",
   "execution_count": null,
   "metadata": {},
   "outputs": [],
   "source": [
    "df_smp_original = pd.read_csv('data2/전력거래_계통한계가격_시간별_SMP.csv', encoding='cp949')"
   ]
  },
  {
   "cell_type": "code",
   "execution_count": null,
   "metadata": {},
   "outputs": [],
   "source": [
    "# 일일 평균값인 가중평균을 사용함\n",
    "\n",
    "df_smp_day = df_smp_original[['기간', '가중평균']]\n",
    "df_smp_sort = df_smp_day.sort_index(ascending=False)\n",
    "df_smp_reset = df_smp_sort.reset_index()\n",
    "df_smp_drop = df_smp_reset.drop(columns='index')"
   ]
  },
  {
   "cell_type": "code",
   "execution_count": null,
   "metadata": {},
   "outputs": [],
   "source": [
    "# 일자별 총 태양광 발전량\n",
    "\n",
    "prod_orinal = pd.read_csv('data2/태양광_지역별시간별발전량_2021.csv',encoding='cp949')\n",
    "prod_day = prod_orinal.groupby(['거래일자'])['발전량 '].sum()\n",
    "df_prod_day = pd.DataFrame(prod_day).reset_index()\n",
    "df_prod_2 = df_prod_day['발전량 ']\n",
    "df_prod_final = pd.DataFrame(df_prod_2)"
   ]
  },
  {
   "cell_type": "code",
   "execution_count": null,
   "metadata": {},
   "outputs": [],
   "source": [
    "# 두 데이터프레임 합치기\n",
    "\n",
    "df_concat = pd.concat([df_smp_drop, df_prod_final], axis = 1)"
   ]
  },
  {
   "cell_type": "code",
   "execution_count": null,
   "metadata": {},
   "outputs": [],
   "source": [
    "df_concat['연도']=df_concat['기간'].str.split('/').str.get(0)\n",
    "df_concat['월']=df_concat['기간'].str.split('/').str.get(1)\n",
    "df_concat['일']=df_concat['기간'].str.split('/').str.get(2)\n",
    "data=df_concat[['연도','월','일','발전량 ','가중평균']]\n",
    "data=data.astype(float)\n",
    "data=data.astype(int)"
   ]
  },
  {
   "cell_type": "raw",
   "metadata": {},
   "source": [
    "18년도 발전량 가중평균"
   ]
  },
  {
   "cell_type": "code",
   "execution_count": null,
   "metadata": {},
   "outputs": [],
   "source": [
    "data_18=data[data['연도']==2018]\n",
    "data_18=data_18.drop(columns='연도')\n",
    "data_18_1=data_18.groupby('월')['발전량 '].sum()\n",
    "data_18_2=data_18.groupby('월')['가중평균'].mean()\n",
    "data_18=pd.concat([data_18_1,data_18_2],axis=1)\n",
    "data_18=data_18.rename(columns={'발전량 ':'발전량'})"
   ]
  },
  {
   "cell_type": "raw",
   "metadata": {},
   "source": [
    "19년도 발전량 가중평균"
   ]
  },
  {
   "cell_type": "code",
   "execution_count": null,
   "metadata": {},
   "outputs": [],
   "source": [
    "data_19=data[data['연도']==2019]\n",
    "data_19=data_19.drop(columns='연도')\n",
    "data_19_1=data_19.groupby('월')['발전량 '].sum()\n",
    "data_19_2=data_19.groupby('월')['가중평균'].mean()\n",
    "data_19=pd.concat([data_19_1,data_19_2],axis=1)\n",
    "data_19=data_19.rename(columns={'발전량 ':'발전량'})"
   ]
  },
  {
   "cell_type": "raw",
   "metadata": {},
   "source": [
    "20년도 발전량 가중평균"
   ]
  },
  {
   "cell_type": "code",
   "execution_count": null,
   "metadata": {},
   "outputs": [],
   "source": [
    "data_20=data[data['연도']==2020]\n",
    "data_20=data_20.drop(columns='연도')\n",
    "data_20_1=data_20.groupby('월')['발전량 '].sum()\n",
    "data_20_2=data_20.groupby('월')['가중평균'].mean()\n",
    "data_20=pd.concat([data_20_1,data_20_2],axis=1)\n",
    "data_20=data_20.rename(columns={'발전량 ':'발전량'})"
   ]
  },
  {
   "cell_type": "raw",
   "metadata": {},
   "source": [
    "21년도 발전량 가중평균"
   ]
  },
  {
   "cell_type": "code",
   "execution_count": null,
   "metadata": {},
   "outputs": [],
   "source": [
    "data_21=data[data['연도']==2021]\n",
    "data_21=data_21.drop(columns='연도')\n",
    "data_21_1=data_21.groupby('월')['발전량 '].sum()\n",
    "data_21_2=data_21.groupby('월')['가중평균'].mean()\n",
    "data_21=pd.concat([data_21_1,data_21_2],axis=1)\n",
    "data_21=data_21.rename(columns={'발전량 ':'발전량'})"
   ]
  },
  {
   "cell_type": "code",
   "execution_count": null,
   "metadata": {},
   "outputs": [],
   "source": [
    "# 일자별 평균 전력시세 데이터 seaborn으로 시각화"
   ]
  },
  {
   "cell_type": "code",
   "execution_count": null,
   "metadata": {},
   "outputs": [],
   "source": [
    "plt.rcParams['font.family'] = 'Malgun Gothic'  \n",
    "plt.rcParams['font.size'] = 15\n",
    "plt.rcParams['axes.unicode_minus']=False"
   ]
  },
  {
   "cell_type": "code",
   "execution_count": null,
   "metadata": {},
   "outputs": [],
   "source": [
    "#스케일이 다른 2개 그리기, 스케일이 작은 값의 시각화가 의미가 없기 때문\n",
    "fig, ax1 = plt.subplots(figsize=(15,6),nrows=2,ncols=2)\n",
    "\n",
    "color_1 = 'tab:blue'\n",
    "ax1[0,0].set_title('발전량별 가중평균_2018', fontsize=12)\n",
    "ax1[0,0].set_xlabel('월')\n",
    "ax1[0,0].set_ylabel('발전량', fontsize=12, color=color_1)\n",
    "ax1[0,0].plot(data_18.index, data_18.발전량 , marker='o', color=color_1,linewidth=3)\n",
    "ax1[0,0].tick_params(axis='y', labelcolor=color_1)\n",
    "\n",
    "# right side with different scale\n",
    "ax2 = ax1[0,0].twinx() # instantiate a second axes that shares the same x-axis\n",
    "color_2 = 'tab:red'\n",
    "ax2.set_ylabel('가중 평균', fontsize=12, color=color_2)\n",
    "ax2.plot(data_18.index, data_18.가중평균, marker='o', color=color_2,linewidth=3)\n",
    "ax2.tick_params(axis='y', labelcolor=color_2)\n",
    "\n",
    "color_1 = 'tab:green'\n",
    "ax1[0,1].set_title('발전량별 가중평균_2019', fontsize=12)\n",
    "ax1[0,1].set_xlabel('월')\n",
    "ax1[0,1].set_ylabel('발전량', fontsize=12, color=color_1)\n",
    "ax1[0,1].plot(data_19.index, data_19.발전량 , marker='o', color=color_1,linewidth=3)\n",
    "ax1[0,1].tick_params(axis='y', labelcolor=color_1)\n",
    "\n",
    "# right side with different scale\n",
    "ax2 = ax1[0,1].twinx() # instantiate a second axes that shares the same x-axis\n",
    "color_2 = 'tab:olive'\n",
    "ax2.set_ylabel('가중 평균', fontsize=12, color=color_2)\n",
    "ax2.plot(data_19.index, data_19.가중평균, marker='o', color=color_2,linewidth=3)\n",
    "ax2.tick_params(axis='y', labelcolor=color_2)\n",
    "\n",
    "color_1 = 'tab:pink'\n",
    "ax1[1,0].set_title('발전량별 가중평균_2020', fontsize=12)\n",
    "ax1[1,0].set_xlabel('월')\n",
    "ax1[1,0].set_ylabel('발전량', fontsize=12, color=color_1)\n",
    "ax1[1,0].plot(data_20.index, data_20.발전량 , marker='o', color=color_1,linewidth=3)\n",
    "ax1[1,0].tick_params(axis='y', labelcolor=color_1)\n",
    "\n",
    "# right side with different scale\n",
    "ax2 = ax1[1,0].twinx() # instantiate a second axes that shares the same x-axis\n",
    "color_2 = 'tab:cyan'\n",
    "ax2.set_ylabel('가중 평균', fontsize=12, color=color_2)\n",
    "ax2.plot(data_20.index, data_20.가중평균, marker='o', color=color_2,linewidth=3)\n",
    "ax2.tick_params(axis='y', labelcolor=color_2)\n",
    "\n",
    "color_1 = 'tab:purple'\n",
    "ax1[1,1].set_title('발전량별 가중평균_2021', fontsize=12)\n",
    "ax1[1,1].set_xlabel('월')\n",
    "ax1[1,1].set_ylabel('발전량', fontsize=12, color=color_1)\n",
    "ax1[1,1].plot(data_21.index, data_21.발전량 , marker='o', color=color_1,linewidth=3)\n",
    "ax1[1,1].tick_params(axis='y', labelcolor=color_1)\n",
    "\n",
    "# right side with different scale\n",
    "ax2 = ax1[1,1].twinx() # instantiate a second axes that shares the same x-axis\n",
    "color_2 = 'tab:orange'\n",
    "ax2.set_ylabel('가중 평균', fontsize=12, color=color_2)\n",
    "ax2.plot(data_21.index, data_21.가중평균, marker='o', color=color_2,linewidth=3)\n",
    "ax2.tick_params(axis='y', labelcolor=color_2)\n",
    "\n",
    "fig.tight_layout()\n",
    "plt.show()"
   ]
  },
  {
   "attachments": {},
   "cell_type": "markdown",
   "metadata": {},
   "source": [
    "## 인"
   ]
  },
  {
   "cell_type": "code",
   "execution_count": null,
   "metadata": {},
   "outputs": [],
   "source": [
    "# 발전소 : 데이터 전처리\n",
    "plant = pd.read_excel('data1/태양광_발전소설치현황_2022.xls')   # 파일 가져오기 (plant 변수에 저장)\n",
    "plant_loc = plant['구분']                                 # 구분열을 따로 저장(지역)\n",
    "plant.drop(columns=['구분','2022년 설치발전소 개소','누적 발전소 개소(2022년까지)'],inplace=True)\n",
    "# 필요없는 열 삭제 : 2021년도 까지만 사용 - 2022~ 열 삭제, inplace로 plant 원본 변경\n",
    "plant = plant.cumsum(1).iloc[:,-1]                        \n",
    "# plant의 누적값을 계산하고, 끝의 열만을 가져와 다시 저장(덮어씀)\n",
    "# cumsum(axis,...) : 누적값 계산, 안의 첫번째 값은 axis이고 1로 설정하면 열 방향(오른쪽)으로 누적값 계산\n",
    "# iloc[index,column] : 특정 위치 값(열) 가져오기.\n",
    "# inplace 옵션이 없어 plant에 다시 저장해서 업데이트\n",
    "plant_df = pd.concat([plant_loc,plant],axis=1)            # 지역과 누적값(개수)열을 합쳐 DataFrame 생성\n",
    "plant_df.columns = ['지역','개수']                        # 열의 이름을 새로 지정\n",
    "plant_dic = plant_df.to_dict(orient='records')            # DataFrame을 지역 키와 개수 키로 나뉜 딕셔너리로 변환"
   ]
  },
  {
   "cell_type": "code",
   "execution_count": null,
   "metadata": {},
   "outputs": [],
   "source": [
    "# 발전소 : 데이터 지도 시각화\n",
    "jsonfile = open('data1/Sido.json','r',encoding='utf8').read()     # 시도구분된 지역 json 파일 가져오기\n",
    "jsondata = json.loads(jsonfile)                             \n",
    "jsondata_loc = {'type': 'FeatureCollection'}                # Sido.json을 복사해서 일부 특성(키와 값) 추가\n",
    "jsondata_pick = []\n",
    "for idx in jsondata['features']:\n",
    "    idx['id'] = idx['properties']['CTP_KOR_NM']             # Sido.\n",
    "    for i in plant_dic:\n",
    "        if i['지역'] == idx['properties']['CTP_KOR_NM']:    # Sido.json의 지역과 일치하면 pop이라는 키 새로 만들고\n",
    "            idx['properties']['pop'] = str(i['개수']) + ' 개'            # 해당 지역의 개수값을 넣기\n",
    "    jsondata_pick.append(idx)                               # 추가된 값을 jsondata_pick에 저장\n",
    "jsondata_loc['features'] = jsondata_pick                    # jsondata_loc의 features 키에 저장\n",
    "map = folium.Map(location=[35.230194, 129.074721],zoom_start=8) # 지도 생성, location : 시작위치, zoom_start : 시작 시 확대정도\n",
    "cho = folium.Choropleth(geo_data=jsondata_loc,              # 색상단계도 생성, geo_data : 참고할 위치정보 데이터\n",
    "                  data=plant_df,                            # data : geo_data와 비교해 맞출 데이터\n",
    "                  columns=['지역','개수'],                  # columns : data에서 사용할 열\n",
    "                  fill_color=\"OrRd\",                        # fill_color : 색\n",
    "                  key_on='feature.id').add_to(map)          # key_on : data와 맞출 geo_data의 데이터\n",
    "cho.geojson.add_child(                                      # 속성 추가(?)\n",
    "    folium.features.GeoJsonPopup(['CTP_KOR_NM','pop'],labels=False,style='font-weight : bold')\n",
    ")   # popup 넣기, geo_data의 properties 키의 값들 중 선택 가능, labels : 열이름 유무, style : 서식\n",
    "map"
   ]
  },
  {
   "cell_type": "code",
   "execution_count": null,
   "metadata": {},
   "outputs": [],
   "source": [
    "# 발전량 : 데이터 전처리\n",
    "plant = pd.read_csv('data1/태양에너지태양광_20230330105731.csv',encoding='cp949')\n",
    "plant = plant[(plant['신재생에너지현황별(1)']=='발전량 (MWh)') | (plant['신재생에너지현황별(1)']=='신재생에너지현황별(1)')]   # 파일 가져오기 (plant 변수에 저장)\n",
    "plant.drop(columns=['신재생에너지현황별(1)','신재생에너지현황별(2)'],inplace=True)\n",
    "comlist = []\n",
    "cnt = 0\n",
    "for i in range(4):\n",
    "    comlist.append(plant.iloc[:,cnt:cnt+18].T)\n",
    "    cnt += 18\n",
    "for i in range(4):\n",
    "    comlist[i].drop(comlist[i].index[0],inplace=True)\n",
    "    comlist[i].columns = ['지역','발전량']\n",
    "for i in range(4):\n",
    "    comlist[i].reset_index(inplace=True,drop=True)\n",
    "new_df = pd.concat([comlist[0].지역,comlist[0].발전량,comlist[1].발전량,comlist[2].발전량,comlist[3].발전량],axis=1)\n",
    "new_df['누적합'] = new_df.iloc[:,1:].sum(axis=1)\n",
    "plant_loc = plant_loc.sort_values()\n",
    "new_df.sort_values(by='지역',inplace=True)\n",
    "new_df['지역'] = plant_loc.values\n",
    "new_df.drop(columns = new_df.iloc[:,1:-2].columns,inplace=True)\n",
    "new_dic = new_df.to_dict(orient='records')"
   ]
  },
  {
   "cell_type": "code",
   "execution_count": null,
   "metadata": {},
   "outputs": [],
   "source": [
    "# 발전량 : 데이터 지도 시각화\n",
    "jsonfile = open('data1/Sido.json','r',encoding='utf8').read()     # 시도구분된 지역 json 파일 가져오기\n",
    "jsondata = json.loads(jsonfile)                             \n",
    "jsondata_loc = {'type': 'FeatureCollection'}                # Sido.json을 복사해서 일부 특성(키와 값) 추가\n",
    "jsondata_pick = []\n",
    "for idx in jsondata['features']:\n",
    "    idx['id'] = idx['properties']['CTP_KOR_NM']             # Sido.\n",
    "    for i in new_dic:\n",
    "        if i['지역'] == idx['properties']['CTP_KOR_NM']:    # Sido.json의 지역과 일치하면 pop이라는 키 새로 만들고\n",
    "            idx['properties']['pop'] = str(round(i['누적합']/(10**22),3)) + ' (10^22 MWh)'            # 해당 지역의 개수값을 넣기\n",
    "    jsondata_pick.append(idx)                               # 추가된 값을 jsondata_pick에 저장\n",
    "jsondata_loc['features'] = jsondata_pick                    # jsondata_loc의 features 키에 저장\n",
    "map = folium.Map(location=[35.230194, 129.074721],zoom_start=8) # 지도 생성, location : 시작위치, zoom_start : 시작 시 확대정도\n",
    "cho = folium.Choropleth(geo_data=jsondata_loc,              # 색상단계도 생성, geo_data : 참고할 위치정보 데이터\n",
    "                  data=new_df,                            # data : geo_data와 비교해 맞출 데이터\n",
    "                  columns=['지역','누적합'],                  # columns : data에서 사용할 열\n",
    "                  fill_color=\"OrRd\",                        # fill_color : 색\n",
    "                  key_on='feature.id').add_to(map)          # key_on : data와 맞출 geo_data의 데이터\n",
    "cho.geojson.add_child(                                      # 속성 추가(?)\n",
    "    folium.features.GeoJsonPopup(['CTP_KOR_NM','pop'],labels=False,style='font-weight : bold')\n",
    ")   # popup 넣기, geo_data의 properties 키의 값들 중 선택 가능, labels : 열이름 유무, style : 서식\n",
    "map"
   ]
  }
 ],
 "metadata": {
  "kernelspec": {
   "display_name": "base",
   "language": "python",
   "name": "python3"
  },
  "language_info": {
   "codemirror_mode": {
    "name": "ipython",
    "version": 3
   },
   "file_extension": ".py",
   "mimetype": "text/x-python",
   "name": "python",
   "nbconvert_exporter": "python",
   "pygments_lexer": "ipython3",
   "version": "3.9.13"
  },
  "orig_nbformat": 4
 },
 "nbformat": 4,
 "nbformat_minor": 2
}
